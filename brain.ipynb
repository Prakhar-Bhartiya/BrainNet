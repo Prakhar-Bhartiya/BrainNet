{
 "cells": [
  {
   "cell_type": "code",
   "execution_count": 187,
   "id": "6d790fd8",
   "metadata": {},
   "outputs": [],
   "source": [
    "class base:\n",
    "    def plot_data(data,duration):\n",
    "        sampling_freq = 160.0\n",
    "        time = np.arange(0.0, duration, 1/sampling_freq)\n",
    "        plt.plot(time,data)\n",
    "    \n",
    "    def segment_data(input_data, seg_time=30):\n",
    "        # 30 seconds \n",
    "        segment_points = seg_time * 160 #sampling freq\n",
    "        splited_data =np.asarray(np.split(input_data.flatten(), segment_points)).T\n",
    "        \n",
    "        return splited_data\n",
    "    \n",
    "    def form_data(input_data,attack_data):\n",
    "        segment_time = 30 #window = 30seconds\n",
    "        input_ = base.segment_data(input_data,segment_time)\n",
    "        attack_ = base.segment_data(attack_data,segment_time)\n",
    "\n",
    "        X = np.concatenate((input_,attack_))\n",
    "        Y = np.concatenate((np.zeros(input_.shape[0]),np.ones(attack_.shape[0]))) #normal = 0, attack = 1\n",
    "        \n",
    "        return X,Y\n",
    "        \n",
    "    "
   ]
  },
  {
   "cell_type": "code",
   "execution_count": 188,
   "id": "cf8366c4",
   "metadata": {},
   "outputs": [],
   "source": [
    "class feature:\n",
    "    \n",
    "    sampling_freq = 160.0\n",
    "    \n",
    "    def power_spectrum_plot(data, duration):\n",
    "        #https://www.adamsmith.haus/python/answers/how-to-plot-a-power-spectrum-in-python\n",
    "        \n",
    "        #time_stop = 120sec\n",
    "        time = np.arange(0.0, duration, 1/sampling_freq) #(start, stop, step)\n",
    "\n",
    "        fourier_transform = np.fft.rfft(data)\n",
    "\n",
    "        abs_fourier_transform = np.abs(fourier_transform)\n",
    "\n",
    "        power_spectrum = np.square(abs_fourier_transform)\n",
    "\n",
    "        frequency = np.linspace(0, sampling_freq/2, len(power_spectrum))\n",
    "        \n",
    "        plt.plot(frequency, power_spectrum)\n",
    "        "
   ]
  },
  {
   "cell_type": "code",
   "execution_count": 189,
   "id": "dbdcce7f",
   "metadata": {},
   "outputs": [],
   "source": [
    "class preprocess:\n",
    "    \n",
    "    sampling_freq = 160.0\n",
    "    \n",
    "    def filter_band(data, duration):\n",
    "        #high pass and low pass filter        \n",
    "        sampling_freq = 160.0\n",
    "        time = np.arange(0.0, duration, 1/sampling_freq)\n",
    "        low_freq = 0.5 #0.1 Hz\n",
    "        high_freq = 2.0 #60 Hz\n",
    "        \n",
    "        filter = signal.firwin(401, [low_freq, high_freq], pass_zero=False,fs=sampling_freq)\n",
    "        \n",
    "        filtered_signal = signal.convolve(data, filter, mode='same')\n",
    "        \n",
    "        plt.plot(time, filtered_signal)\n",
    "    "
   ]
  },
  {
   "cell_type": "code",
   "execution_count": 190,
   "id": "93e4f15d",
   "metadata": {},
   "outputs": [],
   "source": [
    "def main():\n",
    "    from scipy.io import loadmat\n",
    "    import numpy as np\n",
    "    \n",
    "    #Read data\n",
    "    input_data = loadmat('Dataset1.mat') #dict_keys(['__header__', '__version__', '__globals__', 'Raw_Data', 'Sampling_Rate'])\n",
    "    attack_data = loadmat('sampleAttack.mat')#dict_keys(['__header__', '__version__', '__globals__', 'attackVectors'])\n",
    "    \n",
    "    #loading data\n",
    "    input_data = input_data['Raw_Data']\n",
    "    attack_data = attack_data['attackVectors']\n",
    "    \n",
    "    #matrix of 106*3*19200 == > 106 subjects, 3 times of 2 min per subject, \n",
    "    #160 Hz sampling rate. (19200 = 120 s * 160 hz) 160 samples per second\n",
    "    print(\"Input data shape: \", input_data.shape)\n",
    "\n",
    "    #matrix of 106*3*19200 == > 6 attack types | 106 subjects | 3 times | 30 sec per subject, \n",
    "    #160 Hz sampling rate. (4800 = 30 s * 160 hz) 160 samples per second\n",
    "    print(\"Attack data shape: \", attack_data.shape)\n",
    "    \n",
    "    #Combine all data \n",
    "    X,Y = base.form_data(input_data,attack_data)\n",
    "\n",
    "    print(X.shape)\n",
    "    print(Y.shape)\n",
    "    \n",
    "    \n",
    "    #Divide data into train and test\n",
    "    from sklearn.model_selection import train_test_split\n",
    "    X_train, X_test, y_train, y_test = train_test_split(X, Y, test_size=0.30, random_state=42)\n",
    "    #Pass an int for reproducible output across multiple function calls\n",
    "    \n",
    "    \n",
    "    \n",
    "    \n",
    "    "
   ]
  },
  {
   "cell_type": "code",
   "execution_count": 191,
   "id": "7f1e27c7",
   "metadata": {},
   "outputs": [
    {
     "name": "stdout",
     "output_type": "stream",
     "text": [
      "Input data shape:  (106, 3, 19200)\n",
      "Attack data shape:  (6, 106, 3, 4800)\n",
      "(3180, 4800)\n",
      "(3180,)\n"
     ]
    }
   ],
   "source": [
    "if __name__ == \"__main__\":\n",
    "    main()"
   ]
  }
 ],
 "metadata": {
  "kernelspec": {
   "display_name": "Python 3 (ipykernel)",
   "language": "python",
   "name": "python3"
  },
  "language_info": {
   "codemirror_mode": {
    "name": "ipython",
    "version": 3
   },
   "file_extension": ".py",
   "mimetype": "text/x-python",
   "name": "python",
   "nbconvert_exporter": "python",
   "pygments_lexer": "ipython3",
   "version": "3.7.0"
  }
 },
 "nbformat": 4,
 "nbformat_minor": 5
}
